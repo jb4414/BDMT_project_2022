{
 "cells": [
  {
   "attachments": {},
   "cell_type": "markdown",
   "metadata": {},
   "source": [
    "# Exploratory data analysis\n",
    "\n",
    "This notebook contains the code related to data preparation and exploratory analysis for the King County's housing data.\n",
    "\n",
    "General guidelines:\n",
    "\n",
    "* Analyse the variables and their types (change if necessary)\n",
    "* How relevant is each variable to our task? (High, medium or low importance)\n",
    "* Understand the variables and their relations (categorical - count and bars, numerical - describe and hist, relations - seaborn, boxplot)\n",
    "* Analyse the distribution (skew, kurtosis, is it normal, what pattern does it follow ?)\n",
    "* Do we need some new variables?\n",
    "* Clean dataset (rename weirdly named variables, remove zero values, duplicates, fixing weird values (missing value? ) etc.)\n",
    "* Use functions to avoid code duplication and keep data in the same variable to maintain code blocks usage\n",
    "* Anything else?"
   ]
  },
  {
   "cell_type": "code",
   "execution_count": 1,
   "metadata": {},
   "outputs": [],
   "source": [
    "# Load libraries\n",
    "import numpy as np\n",
    "import pandas as pd\n",
    "import seaborn as sns\n",
    "import matplotlib.pyplot as plt\n",
    "\n",
    "# Constants definitions\n",
    "\n",
    "#functions definitions\n"
   ]
  },
  {
   "cell_type": "code",
   "execution_count": 3,
   "metadata": {},
   "outputs": [],
   "source": [
    "# load data\n",
    "house_data = pd.read_csv(\"./Data/kc_house_data.csv\")"
   ]
  },
  {
   "attachments": {},
   "cell_type": "markdown",
   "metadata": {},
   "source": [
    "## Questions\n",
    "\n",
    "The main business problem we want to solve:\n",
    "**- Can a real-estate company successfully increase their profit by house sales price predictions?**\n",
    "\n",
    "Questions to answer:\n",
    "1.  In which housing features should the real-estate company invest in for sales price increase?\n",
    "2.   Where is the best location to negotiate housing value?\n",
    "3.   Will the housing price increase as expected after a renovation?\n",
    "4. Which property types (based on square footage) will create the highest value?\n",
    "\n",
    "## Hypotheses\n",
    "\n",
    "H1: Distance (lat, long) or location to have significant impact on the price\n",
    "H2: Properties closer to public facilities like schools and hospitals or with good views will have higher prices\n",
    "H3: Properties with more sqft_living will have higher prices regardless of location\n"
   ]
  },
  {
   "cell_type": "code",
   "execution_count": 5,
   "metadata": {},
   "outputs": [],
   "source": [
    "# data visualization (will perhaps need to be split into multiple blocks based on content)\n"
   ]
  },
  {
   "cell_type": "code",
   "execution_count": null,
   "metadata": {},
   "outputs": [],
   "source": [
    "# data cleaning (cleaning, type corrections, missing values corrections etc.)\n"
   ]
  },
  {
   "cell_type": "code",
   "execution_count": 6,
   "metadata": {},
   "outputs": [],
   "source": [
    "# Clean data export\n",
    "house_data.to_csv(\"./Data/kc_house_data_clean.csv\")"
   ]
  },
  {
   "cell_type": "code",
   "execution_count": null,
   "metadata": {},
   "outputs": [],
   "source": [
    "# Feature engineering\n"
   ]
  },
  {
   "cell_type": "code",
   "execution_count": null,
   "metadata": {},
   "outputs": [],
   "source": [
    "# export train and test sets\n"
   ]
  }
 ],
 "metadata": {
  "kernelspec": {
   "display_name": "Python 3 (ipykernel)",
   "language": "python",
   "name": "python3"
  },
  "language_info": {
   "codemirror_mode": {
    "name": "ipython",
    "version": 3
   },
   "file_extension": ".py",
   "mimetype": "text/x-python",
   "name": "python",
   "nbconvert_exporter": "python",
   "pygments_lexer": "ipython3",
   "version": "3.10.8"
  },
  "vscode": {
   "interpreter": {
    "hash": "e7370f93d1d0cde622a1f8e1c04877d8463912d04d973331ad4851f04de6915a"
   }
  }
 },
 "nbformat": 4,
 "nbformat_minor": 2
}
