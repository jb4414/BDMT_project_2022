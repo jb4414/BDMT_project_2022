{
 "cells": [
  {
   "attachments": {},
   "cell_type": "markdown",
   "metadata": {},
   "source": [
    "# Random forest regression\n"
   ]
  },
  {
   "cell_type": "code",
   "execution_count": 1,
   "metadata": {},
   "outputs": [],
   "source": [
    "# load libraries\n",
    "import pandas as pd\n",
    "from sklearn.model_selection import cross_val_score\n",
    "from sklearn.ensemble import RandomForestRegressor\n",
    "from sklearn.metrics import mean_squared_error, mean_absolute_error\n"
   ]
  },
  {
   "cell_type": "code",
   "execution_count": 2,
   "metadata": {},
   "outputs": [],
   "source": [
    "# import test and train data\n",
    "train_f = pd.read_csv('./Data/kc_pp_train_features.csv')\n",
    "train_l = pd.read_csv('./Data/kc_pp_train_labels.csv')\n",
    "test_f = pd.read_csv('./Data/kc_pp_test_features.csv')\n",
    "test_l = pd.read_csv('./Data/kc_pp_test_labels.csv')\n",
    "train_f = train_f.drop(['date'], axis=1)\n",
    "test_f = test_f.drop(['date'], axis=1)\n",
    "train_l = train_l['price']\n",
    "test_l = test_l['price']\n",
    "#Normalize the prices\n",
    "train_l = (train_l-train_l.min())/(train_l.max()-train_l.min())\n",
    "test_l = (test_l-test_l.min())/(test_l.max()-test_l.min())\n"
   ]
  },
  {
   "cell_type": "code",
   "execution_count": 4,
   "metadata": {},
   "outputs": [
    {
     "name": "stdout",
     "output_type": "stream",
     "text": [
      "Random Forest R^2 Score:  0.7589034265761877\n",
      "Random Forest Test R^2 Score:  0.7441363768190176\n",
      "Root Squared Error:  0.08782712226476277\n",
      "Mean Absolute Error:  0.06090230530486188\n",
      "Cross Validation Score:  [0.78875266 0.74276817 0.73757637 0.75768951 0.75729111]\n"
     ]
    }
   ],
   "source": [
    "# Regressor\n",
    "rfr = RandomForestRegressor(n_estimators=1000, max_depth=5, n_jobs=-1, random_state=12)\n",
    "rfr.fit(train_f, train_l)\n",
    "print(\"Random Forest R^2 Score: \", rfr.score(train_f, train_l))\n",
    "print(\"Random Forest Test R^2 Score: \", rfr.score(test_f, test_l))\n",
    "y_pred = rfr.predict(test_f)\n",
    "print(\"Root Squared Error: \", mean_squared_error(y_pred, test_l, squared=False))\n",
    "print(\"Mean Absolute Error: \", mean_absolute_error(y_pred, test_l))\n",
    "print(\"Cross Validation Score: \", cross_val_score(rfr, test_f, test_l, cv=5))"
   ]
  }
 ],
 "metadata": {
  "kernelspec": {
   "display_name": "Python 3",
   "language": "python",
   "name": "python3"
  },
  "language_info": {
   "codemirror_mode": {
    "name": "ipython",
    "version": 3
   },
   "file_extension": ".py",
   "mimetype": "text/x-python",
   "name": "python",
   "nbconvert_exporter": "python",
   "pygments_lexer": "ipython3",
   "version": "3.10.8"
  },
  "orig_nbformat": 4,
  "vscode": {
   "interpreter": {
    "hash": "c57f05351737a0a136bb79990cc44beceefbbec7a4b42037d8c4cbbb2cbb459a"
   }
  }
 },
 "nbformat": 4,
 "nbformat_minor": 2
}
